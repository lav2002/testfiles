{
 "cells": [
  {
   "cell_type": "code",
   "execution_count": 7,
   "id": "49b885cd",
   "metadata": {},
   "outputs": [],
   "source": [
    "import numpy as np\n",
    "import tensorflow as tf"
   ]
  },
  {
   "cell_type": "code",
   "execution_count": 8,
   "id": "b49e2d64",
   "metadata": {},
   "outputs": [],
   "source": [
    "# Training data\n",
    "X = np.array([[0.1, 0.7],\n",
    "              [0.5, 0.2],\n",
    "              [0.8, 0.9],\n",
    "              [0.4, 0.5]])\n",
    "\n",
    "y = np.array([[0],\n",
    "              [1],\n",
    "              [0],\n",
    "              [1]])"
   ]
  },
  {
   "cell_type": "code",
   "execution_count": 10,
   "id": "c734cbdb",
   "metadata": {},
   "outputs": [],
   "source": [
    "# Build a simple neural network\n",
    "model = tf.keras.Sequential([\n",
    "    tf.keras.layers.Input(shape=(2,)),\n",
    "    tf.keras.layers.Dense(8, activation='relu'),  # Increased hidden neurons and added ReLU\n",
    "    tf.keras.layers.Dense(1, activation='sigmoid')\n",
    "    ])"
   ]
  },
  {
   "cell_type": "code",
   "execution_count": 11,
   "id": "aa18f54c",
   "metadata": {},
   "outputs": [],
   "source": [
    "# Compile the model with adjusted learning rate\n",
    "optimizer = tf.keras.optimizers.SGD(learning_rate=0.5)\n",
    "model.compile(optimizer=optimizer, loss='binary_crossentropy')"
   ]
  },
  {
   "cell_type": "code",
   "execution_count": 12,
   "id": "5d6ea017",
   "metadata": {},
   "outputs": [
    {
     "data": {
      "text/plain": [
       "<keras.callbacks.History at 0x2354490f850>"
      ]
     },
     "execution_count": 12,
     "metadata": {},
     "output_type": "execute_result"
    }
   ],
   "source": [
    "# Train the model with more epochs\n",
    "model.fit(X, y, epochs=100, verbose=0)"
   ]
  },
  {
   "cell_type": "code",
   "execution_count": 13,
   "id": "69c11ba7",
   "metadata": {},
   "outputs": [
    {
     "name": "stdout",
     "output_type": "stream",
     "text": [
      "1/1 [==============================] - 0s 117ms/step\n",
      "Input: [0.1 0.7], Predicted Output: 0.06746888905763626, Predicted Class: 0\n",
      "Input: [0.5 0.2], Predicted Output: 0.9991208910942078, Predicted Class: 1\n",
      "Input: [0.8 0.9], Predicted Output: 0.05190828815102577, Predicted Class: 0\n",
      "Input: [0.4 0.5], Predicted Output: 0.8661155104637146, Predicted Class: 1\n"
     ]
    }
   ],
   "source": [
    "# Testing\n",
    "predictions = model.predict(X)\n",
    "predicted_classes = (predictions >= 0.5).astype(int)\n",
    "for i in range(len(X)):\n",
    "    print(f\"Input: {X[i]}, Predicted Output: {predictions[i][0]}, Predicted Class: {predicted_classes[i][0]}\")"
   ]
  },
  {
   "cell_type": "code",
   "execution_count": null,
   "id": "efb35951",
   "metadata": {},
   "outputs": [],
   "source": []
  }
 ],
 "metadata": {
  "kernelspec": {
   "display_name": "Python 3 (ipykernel)",
   "language": "python",
   "name": "python3"
  },
  "language_info": {
   "codemirror_mode": {
    "name": "ipython",
    "version": 3
   },
   "file_extension": ".py",
   "mimetype": "text/x-python",
   "name": "python",
   "nbconvert_exporter": "python",
   "pygments_lexer": "ipython3",
   "version": "3.9.12"
  }
 },
 "nbformat": 4,
 "nbformat_minor": 5
}
